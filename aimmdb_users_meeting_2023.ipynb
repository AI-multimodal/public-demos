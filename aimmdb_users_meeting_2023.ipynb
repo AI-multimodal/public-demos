{
 "cells": [
  {
   "cell_type": "code",
   "execution_count": null,
   "id": "aa62476c-f8ca-41ce-9aa3-dcc01b965ad5",
   "metadata": {},
   "outputs": [],
   "source": [
    "\"\"\"\n",
    "AIMM DB is frozen on an older version of Tiled for the moment. (A postdoc left.) \n",
    "It will be updated in May, but for now we need to use an older version of the Tiled client to work with it.\n",
    "\"\"\"\n",
    "import tiled\n",
    "tiled.__version__ == \"0.1.0a74\""
   ]
  },
  {
   "cell_type": "markdown",
   "id": "6cbca8df-199c-4a3e-8893-537c52e15687",
   "metadata": {},
   "source": [
    "## Connect to the AIMMdb server"
   ]
  },
  {
   "cell_type": "code",
   "execution_count": null,
   "id": "9d7e49e1-e300-4a5b-817b-907c5845153b",
   "metadata": {},
   "outputs": [],
   "source": [
    "from tiled.client import from_uri"
   ]
  },
  {
   "cell_type": "code",
   "execution_count": null,
   "id": "b582fc42-4c1e-4317-bff0-9687aaf29a21",
   "metadata": {},
   "outputs": [],
   "source": [
    "c = from_uri(\"https://aimm.lbl.gov/api\")\n",
    "c"
   ]
  },
  {
   "cell_type": "code",
   "execution_count": null,
   "id": "bc857ecb-4e40-471b-afb8-85b871d7df42",
   "metadata": {},
   "outputs": [],
   "source": [
    "c['dataset']"
   ]
  },
  {
   "cell_type": "code",
   "execution_count": null,
   "id": "e0567cf3-b652-4dc6-8a38-7c6d5ad401b1",
   "metadata": {},
   "outputs": [],
   "source": [
    "c.login()"
   ]
  },
  {
   "cell_type": "code",
   "execution_count": null,
   "id": "d1a1e441-735f-41ec-ab4e-94c7ccd9f746",
   "metadata": {},
   "outputs": [],
   "source": [
    "list(c['dataset'])"
   ]
  },
  {
   "cell_type": "markdown",
   "id": "a0bdad14-b489-43cc-ac5b-84ea67540cc9",
   "metadata": {},
   "source": [
    "## Find data and metadata"
   ]
  },
  {
   "cell_type": "code",
   "execution_count": null,
   "id": "36886619-5e92-4fad-9a45-305ef3571ca4",
   "metadata": {},
   "outputs": [],
   "source": [
    "#Total of samples in NMC\n",
    "c['dataset']['nmc']['uid']"
   ]
  },
  {
   "cell_type": "code",
   "execution_count": null,
   "id": "f8f5a99f-9c81-4e64-82c3-3b15192cb2cf",
   "metadata": {},
   "outputs": [],
   "source": [
    "c['dataset']['nmc']['element']['Ni']['edge']['K']['uid']['WwFMvg92n23'].read()"
   ]
  },
  {
   "cell_type": "code",
   "execution_count": null,
   "id": "bfa25b9b-887c-45ed-aa04-7f925dd60d11",
   "metadata": {},
   "outputs": [],
   "source": [
    "c['dataset']['nmc']['element']['Ni']['edge']['K']['uid']['WwFMvg92n23'].metadata"
   ]
  },
  {
   "cell_type": "code",
   "execution_count": null,
   "id": "b01e8a72-340f-477d-8e84-93d814c28829",
   "metadata": {},
   "outputs": [],
   "source": [
    "# Access collection of data to itereate from. You can pick from these options: .items(), .keys(), .values()\n",
    "c['dataset']['nmc']['uid'].values().first()"
   ]
  },
  {
   "cell_type": "code",
   "execution_count": null,
   "id": "32f08dac-e57d-4bfd-aba5-6a7768eeba01",
   "metadata": {},
   "outputs": [],
   "source": [
    "for key in c['dataset']['nmc']['element']['O']['edge']['K']['uid'].keys():\n",
    "    print(key)"
   ]
  },
  {
   "cell_type": "code",
   "execution_count": null,
   "id": "74323e59-446c-45f2-bbdd-3b19e1fde28f",
   "metadata": {},
   "outputs": [],
   "source": [
    "from tiled.queries import Key\n",
    "\n",
    "c['dataset']['nmc']['uid'].search(Key(\"facility.name\") == \"NSLS-II\").search(Key(\"element.symbol\") == \"Co\")"
   ]
  },
  {
   "cell_type": "code",
   "execution_count": null,
   "id": "9f2147de-1168-403b-a60b-11e95aa25ab0",
   "metadata": {},
   "outputs": [],
   "source": [
    "c['dataset']['nmc']['uid'].distinct(\"facility.name\", counts=True)"
   ]
  },
  {
   "cell_type": "markdown",
   "id": "4feafb67-d941-4007-add4-12de5e6c0cee",
   "metadata": {},
   "source": [
    "## Share data with collaboration"
   ]
  },
  {
   "cell_type": "code",
   "execution_count": null,
   "id": "4b591d33-8766-4b81-95d6-244fa1768c15",
   "metadata": {},
   "outputs": [],
   "source": [
    "import pandas as pd"
   ]
  },
  {
   "cell_type": "code",
   "execution_count": null,
   "id": "d3614c46-b521-4f83-8cf4-10c123ca73eb",
   "metadata": {},
   "outputs": [],
   "source": [
    "data = {\"node_id\": [1, 2, 3],\n",
    "       \"probability\": [0.2, 0.7, 0.1]}\n",
    "df = pd.DataFrame(data)\n",
    "\n",
    "metadata = {\"dataset\": \"demo\",\n",
    "            \"element\": {\"edge\": \"K\", \"symbol\": \"Ni\"},\n",
    "            \"facility\": \"NSLS-II\",\n",
    "           }"
   ]
  },
  {
   "cell_type": "code",
   "execution_count": null,
   "id": "a6058d35-c3a2-4e2b-8a6c-ec7fb6051734",
   "metadata": {},
   "outputs": [],
   "source": [
    "df_node = c[\"uid\"].write_dataframe(df, metadata)\n",
    "df_node"
   ]
  },
  {
   "cell_type": "code",
   "execution_count": null,
   "id": "e74426c8-851c-4f3d-ab4c-411af49acea6",
   "metadata": {},
   "outputs": [],
   "source": [
    "node_id = df_node.item[\"id\"]\n",
    "c[\"uid\"][node_id]"
   ]
  },
  {
   "cell_type": "code",
   "execution_count": null,
   "id": "c2726267-a00b-41db-a5f6-439199af079c",
   "metadata": {},
   "outputs": [],
   "source": [
    "list(c['dataset'])"
   ]
  },
  {
   "cell_type": "code",
   "execution_count": null,
   "id": "2f086a34-3a23-4079-90e5-7b89ea0159c4",
   "metadata": {},
   "outputs": [],
   "source": [
    "c[\"uid\"][node_id].export(\"demo.csv\")"
   ]
  },
  {
   "cell_type": "code",
   "execution_count": null,
   "id": "b76f4fc9-0e52-4c04-aafd-be3d62cb867f",
   "metadata": {},
   "outputs": [],
   "source": [
    "del c[\"uid\"][node_id]"
   ]
  },
  {
   "cell_type": "code",
   "execution_count": null,
   "id": "4701ddc5-72e4-4044-8a44-3170c7a46371",
   "metadata": {},
   "outputs": [],
   "source": []
  }
 ],
 "metadata": {
  "kernelspec": {
   "display_name": "Python 3 (ipykernel)",
   "language": "python",
   "name": "python3"
  },
  "language_info": {
   "codemirror_mode": {
    "name": "ipython",
    "version": 3
   },
   "file_extension": ".py",
   "mimetype": "text/x-python",
   "name": "python",
   "nbconvert_exporter": "python",
   "pygments_lexer": "ipython3",
   "version": "3.10.9"
  }
 },
 "nbformat": 4,
 "nbformat_minor": 5
}
