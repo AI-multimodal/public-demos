{
 "cells": [
  {
   "cell_type": "markdown",
   "id": "c41d6e02-e2ee-4f3c-a020-b0735c2c482e",
   "metadata": {},
   "source": [
    "##### Note: AIMM DB is frozen on an older version of Tiled for the moment (A postdoc left). It will be updated in May, but for now we need to use an older version of the Tiled client to work with it."
   ]
  },
  {
   "cell_type": "code",
   "execution_count": null,
   "id": "aa62476c-f8ca-41ce-9aa3-dcc01b965ad5",
   "metadata": {},
   "outputs": [],
   "source": [
    "import tiled\n",
    "tiled.__version__ == \"0.1.0a74\""
   ]
  },
  {
   "cell_type": "markdown",
   "id": "6cbca8df-199c-4a3e-8893-537c52e15687",
   "metadata": {},
   "source": [
    "## Connect to the AIMMdb server"
   ]
  },
  {
   "cell_type": "code",
   "execution_count": null,
   "id": "9d7e49e1-e300-4a5b-817b-907c5845153b",
   "metadata": {},
   "outputs": [],
   "source": [
    "from tiled.client import from_uri"
   ]
  },
  {
   "cell_type": "code",
   "execution_count": null,
   "id": "b582fc42-4c1e-4317-bff0-9687aaf29a21",
   "metadata": {},
   "outputs": [],
   "source": [
    "c = from_uri(\"https://aimm.lbl.gov/api\")\n",
    "c"
   ]
  },
  {
   "cell_type": "code",
   "execution_count": null,
   "id": "bc857ecb-4e40-471b-afb8-85b871d7df42",
   "metadata": {},
   "outputs": [],
   "source": [
    "c['dataset']"
   ]
  },
  {
   "cell_type": "code",
   "execution_count": null,
   "id": "e0567cf3-b652-4dc6-8a38-7c6d5ad401b1",
   "metadata": {},
   "outputs": [],
   "source": [
    "c.login()"
   ]
  },
  {
   "cell_type": "code",
   "execution_count": null,
   "id": "d1a1e441-735f-41ec-ab4e-94c7ccd9f746",
   "metadata": {},
   "outputs": [],
   "source": [
    "list(c['dataset'])"
   ]
  },
  {
   "cell_type": "markdown",
   "id": "a0bdad14-b489-43cc-ac5b-84ea67540cc9",
   "metadata": {},
   "source": [
    "## Find data and metadata"
   ]
  },
  {
   "cell_type": "code",
   "execution_count": null,
   "id": "36886619-5e92-4fad-9a45-305ef3571ca4",
   "metadata": {},
   "outputs": [],
   "source": [
    "#Total of samples in NMC\n",
    "c['dataset']['nmc']['uid']"
   ]
  },
  {
   "cell_type": "code",
   "execution_count": null,
   "id": "f8f5a99f-9c81-4e64-82c3-3b15192cb2cf",
   "metadata": {},
   "outputs": [],
   "source": [
    "c['dataset']['nmc']['element']['Ni']['edge']['K']['uid']['WwFMvg92n23'].read()"
   ]
  },
  {
   "cell_type": "code",
   "execution_count": null,
   "id": "bfa25b9b-887c-45ed-aa04-7f925dd60d11",
   "metadata": {},
   "outputs": [],
   "source": [
    "c['dataset']['nmc']['element']['Ni']['edge']['K']['uid']['WwFMvg92n23'].metadata"
   ]
  },
  {
   "cell_type": "code",
   "execution_count": null,
   "id": "b01e8a72-340f-477d-8e84-93d814c28829",
   "metadata": {},
   "outputs": [],
   "source": [
    "# Access collection of data to itereate from. You can pick from these options: .items(), .keys(), .values()\n",
    "c['dataset']['nmc']['uid'].values().first()"
   ]
  },
  {
   "cell_type": "code",
   "execution_count": null,
   "id": "32f08dac-e57d-4bfd-aba5-6a7768eeba01",
   "metadata": {},
   "outputs": [],
   "source": [
    "for key in c['dataset']['nmc']['element']['O']['edge']['K']['uid'].keys():\n",
    "    print(key)"
   ]
  },
  {
   "cell_type": "code",
   "execution_count": null,
   "id": "9f2147de-1168-403b-a60b-11e95aa25ab0",
   "metadata": {},
   "outputs": [],
   "source": [
    "c['dataset']['nmc']['uid'].distinct(\"facility.name\", counts=True)"
   ]
  },
  {
   "cell_type": "code",
   "execution_count": null,
   "id": "74323e59-446c-45f2-bbdd-3b19e1fde28f",
   "metadata": {},
   "outputs": [],
   "source": [
    "from tiled.queries import Key\n",
    "\n",
    "c['dataset']['nmc']['uid'].search(Key(\"element.symbol\") == \"Co\").search(Key(\"facility.name\") == \"NSLS-II\")"
   ]
  },
  {
   "cell_type": "code",
   "execution_count": null,
   "id": "acd61da7-8fdf-47f1-a658-9c9f6365e196",
   "metadata": {},
   "outputs": [],
   "source": [
    "element_list = [\"Co\", \"Mn\", \"Ni\"]"
   ]
  },
  {
   "cell_type": "code",
   "execution_count": null,
   "id": "60c9b6e5-34d3-4d7e-9ae0-18e8112032f8",
   "metadata": {},
   "outputs": [],
   "source": [
    "from matplotlib import pyplot as plt"
   ]
  },
  {
   "cell_type": "code",
   "execution_count": null,
   "id": "8cd4706b-88af-4c34-987e-e7f99f16e380",
   "metadata": {},
   "outputs": [],
   "source": [
    "als_dfs = {}\n",
    "als_metadata = {}\n",
    "for element in  element_list:\n",
    "    als_data = c['dataset']['nmc']['uid'].search(Key(\"sample.name\") == \"NCM622\").search(\n",
    "        Key(\"element.symbol\") == element).search(Key(\"charge.cycle\") == 1).search(\n",
    "        Key(\"charge.voltage\") == 4.8).search(Key(\"facility.name\") == \"ALS\").values().first()\n",
    "    als_dfs[element] = als_data.read()\n",
    "    als_metadata[element] = als_data.metadata\n",
    "\n",
    "counter = 0\n",
    "fig_als, ax_als = plt.subplots(1,3, figsize=(15, 4))\n",
    "for key, df in als_dfs.items():\n",
    "    if key == \"Mn\":\n",
    "        ax_als[counter].plot(als_dfs[key][\"energy\"], als_dfs[key][\"normfluor\"], label=als_metadata[key][\"element\"][\"symbol\"])\n",
    "        ax_als[counter].set(xlabel='energy', ylabel='normfluor')\n",
    "    else:\n",
    "        ax_als[counter].plot(als_dfs[key][\"energy\"], als_dfs[key][\"mu_tfy\"], label=als_metadata[key][\"element\"][\"symbol\"])\n",
    "        ax_als[counter].set(xlabel='energy', ylabel='mu_tfy')\n",
    "    ax_als[counter].legend()\n",
    "    counter += 1\n",
    "plt.show()"
   ]
  },
  {
   "cell_type": "code",
   "execution_count": null,
   "id": "49d02eb1-e729-4756-8504-be81dd1ec0ac",
   "metadata": {},
   "outputs": [],
   "source": [
    "aps_dfs = {}\n",
    "aps_metadata = {}\n",
    "for element in  element_list:\n",
    "    aps_data = c['dataset']['nmc']['uid'].search(Key(\"sample.name\") == \"NCM622\").search(\n",
    "        Key(\"element.symbol\") == element).search(Key(\"charge.cycle\") == 1).search(\n",
    "        Key(\"charge.voltage\") == 4.8).search(Key(\"facility.name\") == \"APS\").values().first()\n",
    "    aps_dfs[element] = aps_data.read()\n",
    "    aps_metadata[element] = aps_data.metadata\n",
    "\n",
    "counter = 0\n",
    "fig_aps, ax_aps = plt.subplots(1,3, figsize=(15, 4))\n",
    "for key, df in aps_dfs.items():\n",
    "    ax_aps[counter].plot(aps_dfs[key][\"energy\"], aps_dfs[key][\"mutrans\"], label=aps_metadata[key][\"element\"][\"symbol\"])\n",
    "    ax_aps[counter].set(xlabel='energy', ylabel='mutrans')\n",
    "    ax_aps[counter].legend()\n",
    "    counter += 1\n",
    "plt.show()"
   ]
  },
  {
   "cell_type": "code",
   "execution_count": null,
   "id": "44b7d7ad-b585-4cfd-95f6-7f0af411ed8d",
   "metadata": {},
   "outputs": [],
   "source": [
    "nslsii_dfs = {}\n",
    "nslsii_metadata = {}\n",
    "for element in  element_list:\n",
    "    nslsii_data = c['dataset']['nmc']['uid'].search(Key(\"sample.name\") == \"NCM622\").search(\n",
    "        Key(\"element.symbol\") == element).search(Key(\"charge.cycle\") == 1).search(\n",
    "        Key(\"charge.voltage\") == 4.8).search(Key(\"facility.name\") == \"NSLS-II\").values().first()\n",
    "    nslsii_dfs[element] = nslsii_data.read()\n",
    "    nslsii_metadata[element] = nslsii_data.metadata\n",
    "    \n",
    "counter = 0\n",
    "fig_nslsii, ax_nslsii = plt.subplots(1,3, figsize=(15, 4))\n",
    "for key, df in nslsii_dfs.items():\n",
    "    ax_nslsii[counter].plot(nslsii_dfs[key][\"energy\"], nslsii_dfs[key][\"mutrans\"], label=nslsii_metadata[key][\"element\"][\"symbol\"])\n",
    "    ax_nslsii[counter].set(xlabel='energy', ylabel='mutrans')\n",
    "    ax_nslsii[counter].legend()\n",
    "    counter += 1\n",
    "plt.show()"
   ]
  },
  {
   "cell_type": "code",
   "execution_count": null,
   "id": "24f922bd-9ae6-4dca-913e-19ad1acf11f6",
   "metadata": {},
   "outputs": [],
   "source": [
    "fig_element, ax_element = plt.subplots(1,3, figsize=(15, 4))\n",
    "\n",
    "counter = 0\n",
    "for key in nslsii_dfs.keys():\n",
    "    if key == \"Mn\":\n",
    "        ax_element[counter].plot(als_dfs[key][\"energy\"], als_dfs[key][\"normfluor\"], label=\"ALS\")\n",
    "    else:\n",
    "        ax_element[counter].plot(als_dfs[key][\"energy\"], als_dfs[key][\"mu_tfy\"], label=\"ALS\")\n",
    "    \n",
    "    ax_element[counter].plot(aps_dfs[key][\"energy\"], aps_dfs[key][\"mutrans\"], label=\"APS\")\n",
    "    ax_element[counter].plot(nslsii_dfs[key][\"energy\"], nslsii_dfs[key][\"mutrans\"], label=\"NSLS-II\")\n",
    "    ax_element[counter].set(title=key)\n",
    "    \n",
    "    ax_element[counter].legend()\n",
    "    counter += 1\n",
    "plt.show()"
   ]
  },
  {
   "cell_type": "markdown",
   "id": "4feafb67-d941-4007-add4-12de5e6c0cee",
   "metadata": {},
   "source": [
    "## Share data with collaboration"
   ]
  },
  {
   "cell_type": "code",
   "execution_count": null,
   "id": "4b591d33-8766-4b81-95d6-244fa1768c15",
   "metadata": {},
   "outputs": [],
   "source": [
    "import pandas as pd"
   ]
  },
  {
   "cell_type": "code",
   "execution_count": null,
   "id": "d3614c46-b521-4f83-8cf4-10c123ca73eb",
   "metadata": {},
   "outputs": [],
   "source": [
    "data = {\"node_id\": [1, 2, 3],\n",
    "       \"probability\": [0.2, 0.7, 0.1]}\n",
    "df = pd.DataFrame(data)\n",
    "\n",
    "metadata = {\"dataset\": \"demo\",\n",
    "            \"element\": {\"edge\": \"K\", \"symbol\": \"Ni\"},\n",
    "            \"facility\": \"NSLS-II\",\n",
    "           }"
   ]
  },
  {
   "cell_type": "code",
   "execution_count": null,
   "id": "a6058d35-c3a2-4e2b-8a6c-ec7fb6051734",
   "metadata": {},
   "outputs": [],
   "source": [
    "df_node = c[\"uid\"].write_dataframe(df, metadata)\n",
    "df_node"
   ]
  },
  {
   "cell_type": "code",
   "execution_count": null,
   "id": "e74426c8-851c-4f3d-ab4c-411af49acea6",
   "metadata": {},
   "outputs": [],
   "source": [
    "node_id = df_node.item[\"id\"]\n",
    "c[\"uid\"][node_id]"
   ]
  },
  {
   "cell_type": "code",
   "execution_count": null,
   "id": "c2726267-a00b-41db-a5f6-439199af079c",
   "metadata": {},
   "outputs": [],
   "source": [
    "list(c['dataset'])"
   ]
  },
  {
   "cell_type": "code",
   "execution_count": null,
   "id": "2f086a34-3a23-4079-90e5-7b89ea0159c4",
   "metadata": {},
   "outputs": [],
   "source": [
    "c[\"uid\"][node_id].export(\"demo.csv\")"
   ]
  },
  {
   "cell_type": "code",
   "execution_count": null,
   "id": "b76f4fc9-0e52-4c04-aafd-be3d62cb867f",
   "metadata": {},
   "outputs": [],
   "source": [
    "del c[\"uid\"][node_id]"
   ]
  },
  {
   "cell_type": "code",
   "execution_count": null,
   "id": "4701ddc5-72e4-4044-8a44-3170c7a46371",
   "metadata": {},
   "outputs": [],
   "source": []
  }
 ],
 "metadata": {
  "kernelspec": {
   "display_name": "Python 3 (ipykernel)",
   "language": "python",
   "name": "python3"
  },
  "language_info": {
   "codemirror_mode": {
    "name": "ipython",
    "version": 3
   },
   "file_extension": ".py",
   "mimetype": "text/x-python",
   "name": "python",
   "nbconvert_exporter": "python",
   "pygments_lexer": "ipython3",
   "version": "3.10.9"
  }
 },
 "nbformat": 4,
 "nbformat_minor": 5
}
