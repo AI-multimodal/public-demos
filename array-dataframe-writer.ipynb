{
 "cells": [
  {
   "cell_type": "code",
   "execution_count": null,
   "id": "d0033eec",
   "metadata": {},
   "outputs": [],
   "source": [
    "import numpy\n",
    "import pandas"
   ]
  },
  {
   "cell_type": "markdown",
   "id": "18d1e891",
   "metadata": {},
   "source": [
    "# Create array"
   ]
  },
  {
   "cell_type": "code",
   "execution_count": null,
   "id": "518efe60",
   "metadata": {},
   "outputs": [],
   "source": [
    "arr = numpy.ones((5, 5, 5))\n",
    "arr"
   ]
  },
  {
   "cell_type": "code",
   "execution_count": null,
   "id": "1c96b4ad",
   "metadata": {},
   "outputs": [],
   "source": [
    "array_metadata={\"dataset\" : \"sandbox\", \"element\":{\"symbol\": \"Co\", \"edge\": \"K\"}}\n",
    "print(arr_metadata)"
   ]
  },
  {
   "cell_type": "markdown",
   "id": "55184fb4",
   "metadata": {},
   "source": [
    "# Create DataFrames"
   ]
  },
  {
   "cell_type": "code",
   "execution_count": null,
   "id": "ec4ca721",
   "metadata": {},
   "outputs": [],
   "source": [
    "df_data = numpy.ones((5, 5))\n",
    "\n",
    "data = {\n",
    "    \"Column1\": df_data[0],\n",
    "    \"Column2\": df_data[1],\n",
    "    \"Column3\": df_data[2],\n",
    "    \"Column4\": df_data[3],\n",
    "    \"Column5\": df_data[4],\n",
    "}\n",
    "\n",
    "df = pandas.DataFrame(data)"
   ]
  },
  {
   "cell_type": "code",
   "execution_count": null,
   "id": "ecdb8fac",
   "metadata": {},
   "outputs": [],
   "source": [
    "df_metadata={\"dataset\" : \"sandbox\", \"element\":{\"symbol\": \"Co\", \"edge\": \"L1\"}}\n",
    "df_metadata"
   ]
  },
  {
   "cell_type": "markdown",
   "id": "e87f9826",
   "metadata": {},
   "source": [
    "# Start Tiled client"
   ]
  },
  {
   "cell_type": "code",
   "execution_count": null,
   "id": "16217d71",
   "metadata": {},
   "outputs": [],
   "source": [
    "from tiled.client import from_uri"
   ]
  },
  {
   "cell_type": "code",
   "execution_count": null,
   "id": "738ae7a9",
   "metadata": {},
   "outputs": [],
   "source": [
    "client = from_uri(\"https://aimm.lbl.gov/api\")"
   ]
  },
  {
   "cell_type": "code",
   "execution_count": null,
   "id": "447b9773",
   "metadata": {},
   "outputs": [],
   "source": [
    "client.login()"
   ]
  },
  {
   "cell_type": "code",
   "execution_count": null,
   "id": "53a4538d",
   "metadata": {},
   "outputs": [],
   "source": [
    "client"
   ]
  },
  {
   "cell_type": "markdown",
   "id": "0028f196",
   "metadata": {},
   "source": [
    "# Write array"
   ]
  },
  {
   "cell_type": "code",
   "execution_count": null,
   "id": "891dee96",
   "metadata": {},
   "outputs": [],
   "source": [
    "array_key = client['uid'].write_array(tiff_array, array_metadata)\n",
    "array_key"
   ]
  },
  {
   "cell_type": "markdown",
   "id": "c0924c29",
   "metadata": {},
   "source": [
    "# Write dataframe"
   ]
  },
  {
   "cell_type": "code",
   "execution_count": null,
   "id": "ab57b036",
   "metadata": {},
   "outputs": [],
   "source": [
    "df_key = client[\"uid\"].write_dataframe(json_dataframe, dataframe_metadata)\n",
    "df_key"
   ]
  },
  {
   "cell_type": "markdown",
   "id": "992772ee",
   "metadata": {},
   "source": [
    "# Validate write/upload"
   ]
  },
  {
   "cell_type": "code",
   "execution_count": null,
   "id": "3980689c",
   "metadata": {},
   "outputs": [],
   "source": [
    "#from databroker.experimental.queries import RawMongo\n",
    "from aimmdb.tree import RawMongoQuery as RawMongo"
   ]
  },
  {
   "cell_type": "code",
   "execution_count": null,
   "id": "fae5f0ee",
   "metadata": {},
   "outputs": [],
   "source": [
    "results = client[\"dataset\"][\"sandbox\"].search(RawMongo({\"metadata.element.symbol\":\"Co\"})) # Search for all element that meet the search criteria\n",
    "list(results)"
   ]
  },
  {
   "cell_type": "code",
   "execution_count": null,
   "id": "99f0e09b",
   "metadata": {},
   "outputs": [],
   "source": [
    "array_result = results.values_indexer[0].read() # Get first item of all results\n",
    "results.values_indexer[0].metadata"
   ]
  },
  {
   "cell_type": "code",
   "execution_count": null,
   "id": "9a36f466",
   "metadata": {},
   "outputs": [],
   "source": [
    "array_result"
   ]
  },
  {
   "cell_type": "code",
   "execution_count": null,
   "id": "8ee8524e",
   "metadata": {},
   "outputs": [],
   "source": [
    "dataframe_result = results.values_indexer[1].read()\n",
    "results.values_indexer[1].metadata"
   ]
  },
  {
   "cell_type": "code",
   "execution_count": null,
   "id": "0b99842a",
   "metadata": {},
   "outputs": [],
   "source": [
    "dataframe_result"
   ]
  },
  {
   "cell_type": "code",
   "execution_count": null,
   "id": "4f18df17",
   "metadata": {},
   "outputs": [],
   "source": []
  }
 ],
 "metadata": {
  "kernelspec": {
   "display_name": "Python 3 (ipykernel)",
   "language": "python",
   "name": "python3"
  },
  "language_info": {
   "codemirror_mode": {
    "name": "ipython",
    "version": 3
   },
   "file_extension": ".py",
   "mimetype": "text/x-python",
   "name": "python",
   "nbconvert_exporter": "python",
   "pygments_lexer": "ipython3",
   "version": "3.9.12"
  }
 },
 "nbformat": 4,
 "nbformat_minor": 5
}
