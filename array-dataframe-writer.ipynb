{
 "cells": [
  {
   "cell_type": "code",
   "execution_count": null,
   "id": "0a442212",
   "metadata": {},
   "outputs": [],
   "source": [
    "from tkinter import Tk, filedialog\n",
    "from ipywidgets import *\n",
    "from IPython.display import clear_output, display"
   ]
  },
  {
   "cell_type": "code",
   "execution_count": null,
   "id": "b4985ff0",
   "metadata": {},
   "outputs": [],
   "source": [
    "class FileCollector:\n",
    "    \n",
    "    def __init__(self):\n",
    "        self.file_list = None\n",
    "        \n",
    "        self.select_file_button = widgets.Button(\n",
    "            description='Select File',\n",
    "            tooltip='Find and select a file to be read'\n",
    "        )        \n",
    "        self.select_file_button.on_click(self.select_files)\n",
    "        display(self.select_file_button)\n",
    "\n",
    "    def select_files(self, b):\n",
    "        root = Tk()\n",
    "        root.withdraw()                                        # Hide the main window.\n",
    "        root.call('wm', 'attributes', '.', '-topmost', True)\n",
    "        self.file_list = filedialog.askopenfilename(multiple=True) \n",
    "    \n",
    "    def get_files(self):\n",
    "        return self.file_list"
   ]
  },
  {
   "cell_type": "markdown",
   "id": "18d1e891",
   "metadata": {},
   "source": [
    "# Create array"
   ]
  },
  {
   "cell_type": "code",
   "execution_count": null,
   "id": "94738834",
   "metadata": {},
   "outputs": [],
   "source": [
    "array_files = FileCollector()"
   ]
  },
  {
   "cell_type": "code",
   "execution_count": null,
   "id": "921ebdc6",
   "metadata": {},
   "outputs": [],
   "source": [
    "array_paths = array_files.get_files()\n",
    "array_paths[0]"
   ]
  },
  {
   "cell_type": "code",
   "execution_count": null,
   "id": "9fc37446",
   "metadata": {},
   "outputs": [],
   "source": [
    "import tifffile\n",
    "tiff_array = tifffile.TiffFile(array_paths[0]).asarray()\n",
    "print(tiff_array.shape)\n",
    "print(tiff_array)"
   ]
  },
  {
   "cell_type": "code",
   "execution_count": null,
   "id": "1c96b4ad",
   "metadata": {},
   "outputs": [],
   "source": [
    "array_metadata={\"dataset\" : \"sandbox\", \"element\":{\"symbol\": \"Co\", \"edge\": \"K\"}}\n",
    "print(array_metadata)"
   ]
  },
  {
   "cell_type": "markdown",
   "id": "55184fb4",
   "metadata": {},
   "source": [
    "# Create DataFrames"
   ]
  },
  {
   "cell_type": "code",
   "execution_count": null,
   "id": "f5040f45",
   "metadata": {},
   "outputs": [],
   "source": [
    "dataframe_files = FileCollector()"
   ]
  },
  {
   "cell_type": "code",
   "execution_count": null,
   "id": "50434eb5",
   "metadata": {},
   "outputs": [],
   "source": [
    "dataframe_paths = dataframe_files.get_files()\n",
    "dataframe_paths[0]"
   ]
  },
  {
   "cell_type": "code",
   "execution_count": null,
   "id": "68543d12",
   "metadata": {},
   "outputs": [],
   "source": [
    "import json\n",
    "import pandas"
   ]
  },
  {
   "cell_type": "code",
   "execution_count": null,
   "id": "8921cc57",
   "metadata": {},
   "outputs": [],
   "source": [
    "with open(dataframe_paths[0]) as json_file:\n",
    "    file_data = json.load(json_file)\n",
    "    dataframe_metadata = {}\n",
    "    data = {}\n",
    "    for item in file_data:\n",
    "        if \"Energy\" in item:\n",
    "            data = item.copy()\n",
    "        else:\n",
    "            if \"element\" in item:\n",
    "                element = {\"element\":{\"symbol\": item[\"element\"], \"edge\": item[\"edge\"]}}\n",
    "                item.pop(\"element\")\n",
    "                item.pop(\"edge\")\n",
    "                item.update(element)\n",
    "            dataframe_metadata.update(item)\n",
    "    \n",
    "    json_dataframe = pandas.DataFrame(data)\n",
    "    dataframe_metadata.update({\"dataset\" : \"sandbox\"})\n",
    "\n",
    "print(json_dataframe.shape)\n",
    "json_dataframe.head()"
   ]
  },
  {
   "cell_type": "code",
   "execution_count": null,
   "id": "ecdb8fac",
   "metadata": {},
   "outputs": [],
   "source": [
    "dataframe_metadata"
   ]
  },
  {
   "cell_type": "markdown",
   "id": "e87f9826",
   "metadata": {},
   "source": [
    "# Start Tiled client"
   ]
  },
  {
   "cell_type": "code",
   "execution_count": null,
   "id": "16217d71",
   "metadata": {},
   "outputs": [],
   "source": [
    "from tiled.client import from_uri"
   ]
  },
  {
   "cell_type": "code",
   "execution_count": null,
   "id": "738ae7a9",
   "metadata": {},
   "outputs": [],
   "source": [
    "client = from_uri(\"https://aimm.lbl.gov/api\")"
   ]
  },
  {
   "cell_type": "code",
   "execution_count": null,
   "id": "447b9773",
   "metadata": {},
   "outputs": [],
   "source": [
    "client.login()"
   ]
  },
  {
   "cell_type": "code",
   "execution_count": null,
   "id": "53a4538d",
   "metadata": {},
   "outputs": [],
   "source": [
    "client"
   ]
  },
  {
   "cell_type": "markdown",
   "id": "0028f196",
   "metadata": {},
   "source": [
    "# Write array"
   ]
  },
  {
   "cell_type": "code",
   "execution_count": null,
   "id": "891dee96",
   "metadata": {},
   "outputs": [],
   "source": [
    "array_key = client['uid'].write_array(tiff_array, array_metadata)\n",
    "array_key"
   ]
  },
  {
   "cell_type": "markdown",
   "id": "c0924c29",
   "metadata": {},
   "source": [
    "# Write dataframe"
   ]
  },
  {
   "cell_type": "code",
   "execution_count": null,
   "id": "ab57b036",
   "metadata": {},
   "outputs": [],
   "source": [
    "df_key = client[\"uid\"].write_dataframe(json_dataframe, dataframe_metadata)\n",
    "df_key"
   ]
  },
  {
   "cell_type": "markdown",
   "id": "992772ee",
   "metadata": {},
   "source": [
    "# Validate write/upload"
   ]
  },
  {
   "cell_type": "code",
   "execution_count": null,
   "id": "3980689c",
   "metadata": {},
   "outputs": [],
   "source": [
    "#from databroker.experimental.queries import RawMongo\n",
    "from aimmdb.tree import RawMongoQuery as RawMongo"
   ]
  },
  {
   "cell_type": "code",
   "execution_count": null,
   "id": "fae5f0ee",
   "metadata": {},
   "outputs": [],
   "source": [
    "results = client[\"dataset\"][\"sandbox\"].search(RawMongo({\"metadata.element.symbol\":\"Co\"})) # Search for all element that meet the search criteria\n",
    "list(results)"
   ]
  },
  {
   "cell_type": "code",
   "execution_count": null,
   "id": "99f0e09b",
   "metadata": {},
   "outputs": [],
   "source": [
    "array_result = results.values_indexer[0].read() # Get first item of all results\n",
    "results.values_indexer[0].metadata"
   ]
  },
  {
   "cell_type": "code",
   "execution_count": null,
   "id": "9a36f466",
   "metadata": {},
   "outputs": [],
   "source": [
    "array_result"
   ]
  },
  {
   "cell_type": "code",
   "execution_count": null,
   "id": "8ee8524e",
   "metadata": {},
   "outputs": [],
   "source": [
    "dataframe_result = results.values_indexer[1].read()\n",
    "results.values_indexer[1].metadata"
   ]
  },
  {
   "cell_type": "code",
   "execution_count": null,
   "id": "0b99842a",
   "metadata": {},
   "outputs": [],
   "source": [
    "dataframe_result"
   ]
  },
  {
   "cell_type": "code",
   "execution_count": null,
   "id": "4f18df17",
   "metadata": {},
   "outputs": [],
   "source": []
  }
 ],
 "metadata": {
  "kernelspec": {
   "display_name": "Python 3 (ipykernel)",
   "language": "python",
   "name": "python3"
  },
  "language_info": {
   "codemirror_mode": {
    "name": "ipython",
    "version": 3
   },
   "file_extension": ".py",
   "mimetype": "text/x-python",
   "name": "python",
   "nbconvert_exporter": "python",
   "pygments_lexer": "ipython3",
   "version": "3.9.12"
  }
 },
 "nbformat": 4,
 "nbformat_minor": 5
}
