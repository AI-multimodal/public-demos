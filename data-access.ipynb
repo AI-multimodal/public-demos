{
 "cells": [
  {
   "cell_type": "code",
   "execution_count": null,
   "id": "15fb9e10-c22f-4f64-b32d-89da11114727",
   "metadata": {},
   "outputs": [],
   "source": [
    "from pprint import pprint\n",
    "\n",
    "import matplotlib.pyplot as plt\n",
    "import numpy as np\n",
    "import pandas as pd\n",
    "from tiled.client import from_uri\n",
    "from tqdm.notebook import tqdm"
   ]
  },
  {
   "cell_type": "code",
   "execution_count": null,
   "id": "37fb61ca-7edb-4a31-93f9-7ffe0650be2f",
   "metadata": {},
   "outputs": [],
   "source": [
    "c = from_uri(\"https://aimm.lbl.gov/api\")\n",
    "c"
   ]
  },
  {
   "cell_type": "code",
   "execution_count": null,
   "id": "6fb828ef-5388-4a30-a201-2945d9b07821",
   "metadata": {},
   "outputs": [],
   "source": [
    "list(c[\"NCM\"])"
   ]
  },
  {
   "cell_type": "code",
   "execution_count": null,
   "id": "b49887af-b97b-454e-b219-e6625c7acae8",
   "metadata": {},
   "outputs": [],
   "source": [
    "list(c[\"NCM\"][\"BM_NCMA\"])"
   ]
  },
  {
   "cell_type": "code",
   "execution_count": null,
   "id": "4d9a0a41-6479-421d-a1fe-635ed2b4c92e",
   "metadata": {},
   "outputs": [],
   "source": [
    "node = c[\"NCM\"][\"BM_NCMA\"][\"Ni-L3-pristine-wanli-1\"]\n",
    "node"
   ]
  },
  {
   "cell_type": "code",
   "execution_count": null,
   "id": "d1f609fe-b293-47d9-9fc3-5f2cb3efb732",
   "metadata": {},
   "outputs": [],
   "source": [
    "pprint(dict(node.metadata))"
   ]
  },
  {
   "cell_type": "code",
   "execution_count": null,
   "id": "251e2f14-13cf-4f3b-8691-303f00b37ba2",
   "metadata": {},
   "outputs": [],
   "source": [
    "df = node.read()\n",
    "df"
   ]
  },
  {
   "cell_type": "code",
   "execution_count": null,
   "id": "d734b1aa-3d75-4cb1-a6b5-943cae327527",
   "metadata": {},
   "outputs": [],
   "source": [
    "df.plot(\"energy\", \"mu_tey\", label=\"Ni-L3\")"
   ]
  },
  {
   "cell_type": "code",
   "execution_count": null,
   "id": "eb13a05d-a1ef-47f5-8744-346738cbd92c",
   "metadata": {},
   "outputs": [],
   "source": [
    "# register queries\n",
    "\n",
    "import collections\n",
    "import json\n",
    "from dataclasses import dataclass\n",
    "\n",
    "from tiled.query_registration import QueryTranslationRegistry, register\n",
    "\n",
    "\n",
    "@register(name=\"raw_mongo\", overwrite=True)\n",
    "@dataclass\n",
    "class RawMongo:\n",
    "    \"\"\"\n",
    "    Run a MongoDB query against a given collection.\n",
    "    \"\"\"\n",
    "\n",
    "    query: str  # We cannot put a dict in a URL, so this a JSON str.\n",
    "\n",
    "    def __init__(self, query):\n",
    "        if isinstance(query, collections.abc.Mapping):\n",
    "            query = json.dumps(query)\n",
    "        self.query = query"
   ]
  },
  {
   "cell_type": "code",
   "execution_count": null,
   "id": "4567bef6-fd36-496b-89d4-b0d746f27d8f",
   "metadata": {},
   "outputs": [],
   "source": [
    "fig, ax = plt.subplots()\n",
    "\n",
    "# select all K edge measurements of pristine condition\n",
    "node = c[\"NCM\"][\"BM_NCMA\"].search(\n",
    "    RawMongo({\"metadata.charge.cycle\": 0, \"metadata.element.edge\": \"K\"})\n",
    ")\n",
    "\n",
    "for k, v in node.items():\n",
    "    print(k)\n",
    "    df = v.read()\n",
    "    if \"mutrans\" in df.columns:\n",
    "        df.plot(\"energy\", \"mutrans\", ax=ax, label=k)"
   ]
  },
  {
   "cell_type": "code",
   "execution_count": null,
   "id": "032e40e7-7efc-468c-9636-be3ace62b75e",
   "metadata": {},
   "outputs": [],
   "source": [
    "fig, ax = plt.subplots()\n",
    "\n",
    "# select all Nickle L3 measurements\n",
    "node = c[\"NCM\"][\"BM_NCMA\"].search(\n",
    "    RawMongo({\"metadata.element.symbol\": \"Ni\", \"metadata.element.edge\": \"L3\"})\n",
    ")\n",
    "\n",
    "for k, v in node.items():\n",
    "    print(k)\n",
    "    df = v.read()\n",
    "    df.plot(\"energy\", \"mu_tey\", ax=ax, label=k)\n",
    "\n",
    "ax.set_xlim([845, 860])"
   ]
  },
  {
   "cell_type": "code",
   "execution_count": null,
   "id": "c1bfa8d3-97da-4880-be49-6e63ea35cc1d",
   "metadata": {},
   "outputs": [],
   "source": [
    "fig, ax = plt.subplots()\n",
    "\n",
    "# select Manganese K edge for pristine condition for each sample\n",
    "for k, s in c[\"NCM\"].items():\n",
    "    node = s.search(\n",
    "        RawMongo(\n",
    "            {\n",
    "                \"metadata.element.symbol\": \"Mn\",\n",
    "                \"metadata.element.edge\": \"K\",\n",
    "                \"metadata.charge.cycle\": 0,\n",
    "            }\n",
    "        )\n",
    "    )\n",
    "    v = next(node.values())\n",
    "    if v:\n",
    "        df = v.read()\n",
    "        df.plot(\"energy\", \"mutrans\", ax=ax, label=k)"
   ]
  },
  {
   "cell_type": "code",
   "execution_count": null,
   "id": "0a26ed9a-db12-4d59-af80-a732d7f72c91",
   "metadata": {},
   "outputs": [],
   "source": [
    "# compare different measurements of Ni K edge of NCM materials\n",
    "\n",
    "fig, ax = plt.subplots()\n",
    "\n",
    "# first get a list of Ni K edges measured by Eli\n",
    "eli = c[\"NCM\"][\"BM_NCMA\"].search(\n",
    "    RawMongo(\n",
    "        {\n",
    "            \"metadata.element.symbol\": \"Ni\",\n",
    "            \"metadata.element.edge\": \"K\",\n",
    "            \"metadata.provenance.source_id\": \"aimm_ncm_eli\",\n",
    "        }\n",
    "    )\n",
    ")\n",
    "\n",
    "# pick the first measurement\n",
    "k,v = eli.items_indexer[0]\n",
    "v.read().plot(\"energy\", \"mutrans\", label=k, ax=ax)\n",
    "\n",
    "element = v.metadata[\"element\"]\n",
    "charge = v.metadata[\"charge\"]\n",
    "\n",
    "# now look up corresponding measurements from chenjun\n",
    "chenjun = c[\"NCM\"][\"BM_NCMA\"].search(\n",
    "    RawMongo(\n",
    "        {\n",
    "            \"metadata.element.symbol\": \"Ni\",\n",
    "            \"metadata.element.edge\": \"K\",\n",
    "            \"metadata.provenance.source_id\": \"aimm_ncm_chenjun\",\n",
    "            \"metadata.charge.cycle\": charge[\"cycle\"],\n",
    "            \"metadata.charge.voltage\": charge[\"voltage\"],\n",
    "            \"metadata.charge.state\": charge[\"state\"],\n",
    "        }\n",
    "    )\n",
    ")\n",
    "\n",
    "# pick the first match\n",
    "k,v = chenjun.items_indexer[0]\n",
    "v.read().plot(\"energy\", \"mutrans\", label=k, ax=ax)"
   ]
  },
  {
   "cell_type": "code",
   "execution_count": null,
   "id": "f395ccb1-522e-4cd4-bc93-bc8a6182e55a",
   "metadata": {},
   "outputs": [],
   "source": [
    "# explore core dataset\n",
    "list(c[\"core\"])"
   ]
  },
  {
   "cell_type": "code",
   "execution_count": null,
   "id": "7f5f63e6-bb79-4073-9960-9dd4cfbfe81c",
   "metadata": {},
   "outputs": [],
   "source": [
    "# search for data by provenance\n",
    "node = c[\"core\"].search(RawMongo({\"metadata.provenance.source_id\": \"core_wanli\"}))\n",
    "list(node)"
   ]
  },
  {
   "cell_type": "code",
   "execution_count": null,
   "id": "0a89c947-4527-4127-bc5e-3abcd62cdbf1",
   "metadata": {},
   "outputs": [],
   "source": [
    "node[\"MnO-1\"][\"O-K-1\"].read().plot(\"energy\", \"mu\", title=\"MnO (O-K)\")"
   ]
  },
  {
   "cell_type": "code",
   "execution_count": null,
   "id": "e49c9698-546d-46d9-9206-acf8ee724c81",
   "metadata": {},
   "outputs": [],
   "source": [
    "fig, ax = plt.subplots()\n",
    "\n",
    "# compare data from the core dataset with NCM data\n",
    "df_ref = c[\"core\"][\"Ni foil  Room Temperature-1\"][\"Ni-K-1\"].read()\n",
    "df_ref[\"mutrans\"] = np.log(df_ref[\"i0\"] / df_ref[\"itrans\"])\n",
    "df_ref.plot(\"energy\", \"mutrans\", ax=ax, label=\"Ni metal (newville)\")\n",
    "\n",
    "node = c[\"NCM\"][\"BM_NCMA\"].search(\n",
    "    RawMongo({\"metadata.element.symbol\": \"Ni\", \"metadata.element.edge\": \"K\"})\n",
    ")\n",
    "df = next(node.values()).read()\n",
    "\n",
    "df.plot(\"energy\", \"mutrans\", ax=ax, label=\"NCMA\")\n",
    "\n",
    "ax.set_title(\"Nickle K Edge\")"
   ]
  },
  {
   "cell_type": "code",
   "execution_count": null,
   "id": "b1db0d04-ce25-46f9-b885-8f92fc1624d7",
   "metadata": {},
   "outputs": [],
   "source": [
    "# export all NCM data to local hdf5 file\n",
    "c[\"NCM\"].export(\"NCM.h5\")"
   ]
  }
 ],
 "metadata": {
  "kernelspec": {
   "display_name": "Python [conda env:aimm]",
   "language": "python",
   "name": "conda-env-aimm-py"
  },
  "language_info": {
   "codemirror_mode": {
    "name": "ipython",
    "version": 3
   },
   "file_extension": ".py",
   "mimetype": "text/x-python",
   "name": "python",
   "nbconvert_exporter": "python",
   "pygments_lexer": "ipython3",
   "version": "3.9.7"
  }
 },
 "nbformat": 4,
 "nbformat_minor": 5
}
