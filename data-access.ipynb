{
 "cells": [
  {
   "cell_type": "markdown",
   "id": "0ee18982",
   "metadata": {},
   "source": [
    "# AI Multimodal Data Repository"
   ]
  },
  {
   "cell_type": "markdown",
   "id": "7285c277",
   "metadata": {},
   "source": [
    "First, we connect to the data respository `aimm.lbl.gov`."
   ]
  },
  {
   "cell_type": "code",
   "execution_count": null,
   "id": "8298e28e",
   "metadata": {},
   "outputs": [],
   "source": [
    "from tiled.client import from_uri"
   ]
  },
  {
   "cell_type": "code",
   "execution_count": null,
   "id": "0a69dc7e",
   "metadata": {},
   "outputs": [],
   "source": [
    "client = from_uri(\"https://aimm.lbl.gov\")"
   ]
  },
  {
   "cell_type": "markdown",
   "id": "84e15933",
   "metadata": {},
   "source": [
    "Some data is public to all and visible without logging in."
   ]
  },
  {
   "cell_type": "code",
   "execution_count": null,
   "id": "c0c9fbd7",
   "metadata": {},
   "outputs": [],
   "source": [
    "client[\"newville\"]"
   ]
  },
  {
   "cell_type": "code",
   "execution_count": null,
   "id": "e4b36031",
   "metadata": {},
   "outputs": [],
   "source": [
    "node = client[\"newville\"][\"Fe-K-0\"]\n",
    "node"
   ]
  },
  {
   "cell_type": "code",
   "execution_count": null,
   "id": "c0307495",
   "metadata": {},
   "outputs": [],
   "source": [
    "data = node.read()\n",
    "data"
   ]
  },
  {
   "cell_type": "code",
   "execution_count": null,
   "id": "6902d47b",
   "metadata": {},
   "outputs": [],
   "source": [
    "from pprint import pprint\n",
    "\n",
    "pprint(dict(node.metadata))"
   ]
  },
  {
   "cell_type": "code",
   "execution_count": null,
   "id": "52ff4fb2",
   "metadata": {},
   "outputs": [],
   "source": [
    "print(\"Edge:\", node.metadata['common']['element']['edge'])\n",
    "print(\"Element:\", node.metadata['common']['element']['symbol'])"
   ]
  },
  {
   "cell_type": "code",
   "execution_count": null,
   "id": "2102f0b2",
   "metadata": {},
   "outputs": [],
   "source": [
    "data.plot(\"energy\", \"mutrans\")"
   ]
  },
  {
   "cell_type": "code",
   "execution_count": null,
   "id": "2024886b-4cbb-44eb-924d-73dbd4b8090a",
   "metadata": {},
   "outputs": [],
   "source": [
    "# registry queries\n",
    "\n",
    "from tiled.query_registration import QueryTranslationRegistry, register\n",
    "from dataclasses import dataclass\n",
    "import collections\n",
    "import json\n",
    "\n",
    "@register(name=\"raw_mongo\")\n",
    "@dataclass\n",
    "class RawMongo:\n",
    "    \"\"\"\n",
    "    Run a MongoDB query against a given collection.\n",
    "    \"\"\"\n",
    "\n",
    "    query: str  # We cannot put a dict in a URL, so this a JSON str.\n",
    "\n",
    "    def __init__(self, query):\n",
    "        if isinstance(query, collections.abc.Mapping):\n",
    "            query = json.dumps(query)\n",
    "        self.query = query\n",
    "        \n",
    "@register(name=\"element\")\n",
    "@dataclass\n",
    "class ElementQuery:\n",
    "\n",
    "    symbol: str\n",
    "    edge: str\n",
    "\n",
    "    def __init__(self, symbol, edge):\n",
    "        self.symbol = symbol\n",
    "        self.edge = edge"
   ]
  },
  {
   "cell_type": "code",
   "execution_count": null,
   "id": "9f257583-60a6-46d6-8d1a-c433af0fbafd",
   "metadata": {},
   "outputs": [],
   "source": [
    "# search for a particular edge\n",
    "results = client[\"newville\"].search(ElementQuery(symbol=\"Co\", edge=\"K\"))\n",
    "print(f\"{len(results)} results\")"
   ]
  },
  {
   "cell_type": "code",
   "execution_count": null,
   "id": "c8f9274a-f392-40fb-825d-5c4ebabe4334",
   "metadata": {},
   "outputs": [],
   "source": [
    "# plot our results\n",
    "\n",
    "import numpy as np\n",
    "\n",
    "df = results.values_indexer[0].read()\n",
    "df[\"mutrans\"] = np.log(df[\"i0\"] / df[\"itrans\"])\n",
    "df.plot(\"energy\", \"mutrans\")"
   ]
  },
  {
   "cell_type": "markdown",
   "id": "a910db99-3b26-46f6-81f7-f67a47d39374",
   "metadata": {},
   "source": [
    "login to get access to non-public data"
   ]
  },
  {
   "cell_type": "code",
   "execution_count": null,
   "id": "1d4089fc-1b44-4831-bf28-5194a804f6ee",
   "metadata": {},
   "outputs": [],
   "source": [
    "client.context.authenticate();"
   ]
  },
  {
   "cell_type": "code",
   "execution_count": null,
   "id": "e2d50a06-0e91-4f4f-ad0e-e1f2e2657fb0",
   "metadata": {},
   "outputs": [],
   "source": [
    "# print available datasets\n",
    "\n",
    "for k in client:\n",
    "  print(k)"
   ]
  },
  {
   "cell_type": "code",
   "execution_count": null,
   "id": "49f195b4-e2b3-4673-be9c-6ee728f8cd6e",
   "metadata": {},
   "outputs": [],
   "source": [
    "# look at the heald dataset\n",
    "\n",
    "heald = client[\"heald\"]\n",
    "heald"
   ]
  },
  {
   "cell_type": "code",
   "execution_count": null,
   "id": "a527a64e-827d-4338-8d24-82b33460eb88",
   "metadata": {},
   "outputs": [],
   "source": [
    "# search for Cobalt K edges\n",
    "results = heald.search(ElementQuery(symbol=\"Co\", edge=\"K\"))\n",
    "print(f\"{len(results)} results\")"
   ]
  },
  {
   "cell_type": "code",
   "execution_count": null,
   "id": "1dc242d5-a978-40ce-955f-a3dc1129f52a",
   "metadata": {},
   "outputs": [],
   "source": [
    "# look at the first result\n",
    "\n",
    "df = results.values_indexer[0].read()\n",
    "df[\"mutrans\"] = np.log(df[\"i0\"] / df[\"it\"])\n",
    "\n",
    "df.plot(\"energy\", \"mutrans\")"
   ]
  }
 ],
 "metadata": {
  "kernelspec": {
   "display_name": "Python [conda env:tiled-dev]",
   "language": "python",
   "name": "conda-env-tiled-dev-py"
  },
  "language_info": {
   "codemirror_mode": {
    "name": "ipython",
    "version": 3
   },
   "file_extension": ".py",
   "mimetype": "text/x-python",
   "name": "python",
   "nbconvert_exporter": "python",
   "pygments_lexer": "ipython3",
   "version": "3.9.5"
  }
 },
 "nbformat": 4,
 "nbformat_minor": 5
}
