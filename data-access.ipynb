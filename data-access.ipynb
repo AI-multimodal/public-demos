{
 "cells": [
  {
   "cell_type": "markdown",
   "id": "0ee18982",
   "metadata": {},
   "source": [
    "# AI Multimodal Data Repository"
   ]
  },
  {
   "cell_type": "markdown",
   "id": "7285c277",
   "metadata": {},
   "source": [
    "First, we connect to the data respository `aimm.lbl.gov`."
   ]
  },
  {
   "cell_type": "code",
   "execution_count": null,
   "id": "8298e28e",
   "metadata": {},
   "outputs": [],
   "source": [
    "import numpy as np\n",
    "import matplotlib.pyplot as plt\n",
    "\n",
    "from tiled.client import from_uri"
   ]
  },
  {
   "cell_type": "code",
   "execution_count": null,
   "id": "0a69dc7e",
   "metadata": {},
   "outputs": [],
   "source": [
    "client = from_uri(\"https://aimm.lbl.gov\")"
   ]
  },
  {
   "cell_type": "markdown",
   "id": "84e15933",
   "metadata": {},
   "source": [
    "Some data is public to all and visible without logging in."
   ]
  },
  {
   "cell_type": "code",
   "execution_count": null,
   "id": "21056dd0-d79d-4055-8bd3-1cf2e71bfb73",
   "metadata": {},
   "outputs": [],
   "source": [
    "# print publically available datasets\n",
    "\n",
    "for k in client:\n",
    "    print(k)"
   ]
  },
  {
   "cell_type": "code",
   "execution_count": null,
   "id": "c0c9fbd7",
   "metadata": {},
   "outputs": [],
   "source": [
    "client[\"newville\"]"
   ]
  },
  {
   "cell_type": "code",
   "execution_count": null,
   "id": "e4b36031",
   "metadata": {},
   "outputs": [],
   "source": [
    "node = client[\"newville\"][\"Fe-K-0\"]\n",
    "node"
   ]
  },
  {
   "cell_type": "code",
   "execution_count": null,
   "id": "c0307495",
   "metadata": {},
   "outputs": [],
   "source": [
    "data = node.read()\n",
    "data"
   ]
  },
  {
   "cell_type": "code",
   "execution_count": null,
   "id": "6902d47b",
   "metadata": {},
   "outputs": [],
   "source": [
    "from pprint import pprint\n",
    "\n",
    "pprint(dict(node.metadata))"
   ]
  },
  {
   "cell_type": "code",
   "execution_count": null,
   "id": "52ff4fb2",
   "metadata": {},
   "outputs": [],
   "source": [
    "print(\"Edge:\", node.metadata['common']['element']['edge'])\n",
    "print(\"Element:\", node.metadata['common']['element']['symbol'])"
   ]
  },
  {
   "cell_type": "code",
   "execution_count": null,
   "id": "2102f0b2",
   "metadata": {},
   "outputs": [],
   "source": [
    "data.plot(\"energy\", \"mutrans\")"
   ]
  },
  {
   "cell_type": "code",
   "execution_count": null,
   "id": "2024886b-4cbb-44eb-924d-73dbd4b8090a",
   "metadata": {},
   "outputs": [],
   "source": [
    "# register queries\n",
    "\n",
    "from tiled.query_registration import QueryTranslationRegistry, register\n",
    "from dataclasses import dataclass\n",
    "import collections\n",
    "import json\n",
    "\n",
    "@register(name=\"raw_mongo\", overwrite=True)\n",
    "@dataclass\n",
    "class RawMongo:\n",
    "    \"\"\"\n",
    "    Run a MongoDB query against a given collection.\n",
    "    \"\"\"\n",
    "\n",
    "    query: str  # We cannot put a dict in a URL, so this a JSON str.\n",
    "\n",
    "    def __init__(self, query):\n",
    "        if isinstance(query, collections.abc.Mapping):\n",
    "            query = json.dumps(query)\n",
    "        self.query = query\n",
    "        \n",
    "@register(name=\"element\", overwrite=True)\n",
    "@dataclass\n",
    "class ElementQuery:\n",
    "\n",
    "    symbol: str\n",
    "    edge: str\n",
    "\n",
    "    def __init__(self, symbol, edge):\n",
    "        self.symbol = symbol\n",
    "        self.edge = edge"
   ]
  },
  {
   "cell_type": "code",
   "execution_count": null,
   "id": "9f257583-60a6-46d6-8d1a-c433af0fbafd",
   "metadata": {},
   "outputs": [],
   "source": [
    "# use ElementQuery to search for a particular edge\n",
    "results = client[\"newville\"].search(ElementQuery(symbol=\"Co\", edge=\"K\"))\n",
    "print(f\"{len(results)} results\")"
   ]
  },
  {
   "cell_type": "code",
   "execution_count": null,
   "id": "c8f9274a-f392-40fb-825d-5c4ebabe4334",
   "metadata": {},
   "outputs": [],
   "source": [
    "# plot our results\n",
    "\n",
    "df = results.values_indexer[0].read()\n",
    "df[\"mutrans\"] = np.log(df[\"i0\"] / df[\"itrans\"])\n",
    "df.plot(\"energy\", \"mutrans\")"
   ]
  },
  {
   "cell_type": "markdown",
   "id": "a910db99-3b26-46f6-81f7-f67a47d39374",
   "metadata": {},
   "source": [
    "login to get access to non-public data"
   ]
  },
  {
   "cell_type": "code",
   "execution_count": null,
   "id": "1d4089fc-1b44-4831-bf28-5194a804f6ee",
   "metadata": {},
   "outputs": [],
   "source": [
    "client.context.authenticate();"
   ]
  },
  {
   "cell_type": "code",
   "execution_count": null,
   "id": "e2d50a06-0e91-4f4f-ad0e-e1f2e2657fb0",
   "metadata": {},
   "outputs": [],
   "source": [
    "# print available datasets\n",
    "\n",
    "for k in client:\n",
    "    print(k)"
   ]
  },
  {
   "cell_type": "code",
   "execution_count": null,
   "id": "49f195b4-e2b3-4673-be9c-6ee728f8cd6e",
   "metadata": {},
   "outputs": [],
   "source": [
    "# look at the heald dataset\n",
    "\n",
    "heald = client[\"heald\"]\n",
    "heald"
   ]
  },
  {
   "cell_type": "code",
   "execution_count": null,
   "id": "a527a64e-827d-4338-8d24-82b33460eb88",
   "metadata": {},
   "outputs": [],
   "source": [
    "# search for Cobalt K edges (note we can use the same query)\n",
    "results = heald.search(ElementQuery(symbol=\"Co\", edge=\"K\"))\n",
    "print(f\"{len(results)} results\")"
   ]
  },
  {
   "cell_type": "code",
   "execution_count": null,
   "id": "1dc242d5-a978-40ce-955f-a3dc1129f52a",
   "metadata": {},
   "outputs": [],
   "source": [
    "# look at the first result\n",
    "\n",
    "df = results.values_indexer[0].read()\n",
    "df[\"mutrans\"] = np.log(df[\"i0\"] / df[\"it\"])\n",
    "\n",
    "df.plot(\"energy\", \"mutrans\")"
   ]
  },
  {
   "cell_type": "code",
   "execution_count": null,
   "id": "13a4c1fc-8336-49ae-ad85-1c21404b6de4",
   "metadata": {},
   "outputs": [],
   "source": [
    "# look at core soft XAS dataset from Wanli\n",
    "\n",
    "wanli = client[\"wanli\"]\n",
    "wanli"
   ]
  },
  {
   "cell_type": "code",
   "execution_count": null,
   "id": "7edf3f2d-bb0d-4fb7-a54a-52ca366bf548",
   "metadata": {},
   "outputs": [],
   "source": [
    "# look at all Oxygen K edges\n",
    "\n",
    "results = wanli.search(ElementQuery(symbol=\"O\", edge=\"K\"))\n",
    "print(f\"{len(results)} results\")\n",
    "results"
   ]
  },
  {
   "cell_type": "code",
   "execution_count": null,
   "id": "15d41326-d0f4-4882-9edc-76598d75f75f",
   "metadata": {},
   "outputs": [],
   "source": [
    "# print all results\n",
    "for k in results:\n",
    "  print(k)"
   ]
  },
  {
   "cell_type": "code",
   "execution_count": null,
   "id": "36a99f7f-329a-4024-827a-9e9a5c025b3b",
   "metadata": {},
   "outputs": [],
   "source": [
    "# compare some results\n",
    "\n",
    "fig, ax = plt.subplots()\n",
    "\n",
    "for k in [\"FeO\", \"CoO\", \"NiO\"]:\n",
    "    df = results[k].read()\n",
    "    energy = df.energy.to_numpy()\n",
    "    mu = df.mu.to_numpy() / df.mu.max()\n",
    "    ax.plot(energy, mu, label=k)\n",
    "  \n",
    "ax.legend()"
   ]
  },
  {
   "cell_type": "code",
   "execution_count": null,
   "id": "01e962be-0608-43f8-958c-23544bdff64f",
   "metadata": {},
   "outputs": [],
   "source": [
    "# look at all Cobalt L edges\n",
    "\n",
    "results = wanli.search(ElementQuery(symbol=\"Co\", edge=\"L\"))\n",
    "print(f\"{len(results)} results\")\n",
    "results"
   ]
  },
  {
   "cell_type": "code",
   "execution_count": null,
   "id": "67e6abb1-9551-4327-a6a9-a9db42fdcb2c",
   "metadata": {},
   "outputs": [],
   "source": [
    "# print all results\n",
    "\n",
    "for k in results:\n",
    "    print(k)"
   ]
  },
  {
   "cell_type": "code",
   "execution_count": null,
   "id": "a3fecb99-150a-496c-a145-be886e3b5aa6",
   "metadata": {},
   "outputs": [],
   "source": [
    "# compare some results\n",
    "\n",
    "fig, ax = plt.subplots()\n",
    "\n",
    "for k in [\"f5195teyn_LiCoO2\", \"f6163teyn_FullyCharged LiCoO2\"]:\n",
    "    df = results[k].read()\n",
    "    df.plot(\"energy\", \"mu\", ax=ax, label=k)\n",
    "\n",
    "ax.legend()"
   ]
  }
 ],
 "metadata": {
  "kernelspec": {
   "display_name": "Python [conda env:tiled-dev]",
   "language": "python",
   "name": "conda-env-tiled-dev-py"
  },
  "language_info": {
   "codemirror_mode": {
    "name": "ipython",
    "version": 3
   },
   "file_extension": ".py",
   "mimetype": "text/x-python",
   "name": "python",
   "nbconvert_exporter": "python",
   "pygments_lexer": "ipython3",
   "version": "3.9.5"
  }
 },
 "nbformat": 4,
 "nbformat_minor": 5
}
