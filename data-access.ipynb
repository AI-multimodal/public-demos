{
 "cells": [
  {
   "cell_type": "code",
   "execution_count": null,
   "id": "15fb9e10-c22f-4f64-b32d-89da11114727",
   "metadata": {},
   "outputs": [],
   "source": [
    "from tiled.client import from_uri\n",
    "from getpass import getpass\n",
    "\n",
    "import numpy as np\n",
    "import pandas as pd\n",
    "import matplotlib.pyplot as plt\n",
    "\n",
    "from tqdm.notebook import tqdm\n",
    "\n",
    "from pprint import pprint"
   ]
  },
  {
   "cell_type": "code",
   "execution_count": null,
   "id": "977bdc69-a598-461d-badd-dbd00c8d195e",
   "metadata": {},
   "outputs": [],
   "source": [
    "api_key = getpass()"
   ]
  },
  {
   "cell_type": "code",
   "execution_count": null,
   "id": "37fb61ca-7edb-4a31-93f9-7ffe0650be2f",
   "metadata": {},
   "outputs": [],
   "source": [
    "c = from_uri(\"https://aimm-staging.lbl.gov\", api_key=api_key)\n",
    "c"
   ]
  },
  {
   "cell_type": "code",
   "execution_count": null,
   "id": "6fb828ef-5388-4a30-a201-2945d9b07821",
   "metadata": {},
   "outputs": [],
   "source": [
    "list(c[\"NCM\"][\"BM\"])"
   ]
  },
  {
   "cell_type": "code",
   "execution_count": null,
   "id": "b49887af-b97b-454e-b219-e6625c7acae8",
   "metadata": {},
   "outputs": [],
   "source": [
    "list(c[\"NCM\"][\"BM\"][\"NCMA\"])"
   ]
  },
  {
   "cell_type": "code",
   "execution_count": null,
   "id": "4d9a0a41-6479-421d-a1fe-635ed2b4c92e",
   "metadata": {},
   "outputs": [],
   "source": [
    "node = c[\"NCM\"][\"BM\"][\"NCMA\"][\"Ni-L3-pristine-1\"]\n",
    "node"
   ]
  },
  {
   "cell_type": "code",
   "execution_count": null,
   "id": "d1f609fe-b293-47d9-9fc3-5f2cb3efb732",
   "metadata": {},
   "outputs": [],
   "source": [
    "pprint(dict(node.metadata))"
   ]
  },
  {
   "cell_type": "code",
   "execution_count": null,
   "id": "251e2f14-13cf-4f3b-8691-303f00b37ba2",
   "metadata": {},
   "outputs": [],
   "source": [
    "df = node.read()\n",
    "df"
   ]
  },
  {
   "cell_type": "code",
   "execution_count": null,
   "id": "d734b1aa-3d75-4cb1-a6b5-943cae327527",
   "metadata": {},
   "outputs": [],
   "source": [
    "df.plot(\"energy\", \"mu_tey\", label=\"Ni-L3\")"
   ]
  },
  {
   "cell_type": "code",
   "execution_count": null,
   "id": "4567bef6-fd36-496b-89d4-b0d746f27d8f",
   "metadata": {},
   "outputs": [],
   "source": [
    "fig, ax = plt.subplots()\n",
    "\n",
    "for k, v in c[\"NCM\"][\"BM\"][\"NCMA\"].items():\n",
    "  if v.metadata[\"charge\"][\"cycle\"] == 0 and v.metadata[\"element\"][\"edge\"] == \"K\":\n",
    "    df = v.read()\n",
    "    if \"mutrans\" in df.columns:\n",
    "      df.plot(\"energy\", \"mutrans\", ax=ax, label=k)"
   ]
  },
  {
   "cell_type": "code",
   "execution_count": null,
   "id": "032e40e7-7efc-468c-9636-be3ace62b75e",
   "metadata": {},
   "outputs": [],
   "source": [
    "fig, ax = plt.subplots()\n",
    "\n",
    "for k, v in c[\"NCM\"][\"BM\"][\"NCMA\"].items():\n",
    "  if v.metadata[\"element\"][\"symbol\"] == \"Ni\" and v.metadata[\"element\"][\"edge\"] == \"L3\":\n",
    "    df = v.read()\n",
    "    df.plot(\"energy\", \"mu_tey\", ax=ax, label=k)\n",
    "    \n",
    "ax.set_xlim([845, 860])"
   ]
  },
  {
   "cell_type": "code",
   "execution_count": null,
   "id": "c1bfa8d3-97da-4880-be49-6e63ea35cc1d",
   "metadata": {},
   "outputs": [],
   "source": [
    "fig, ax = plt.subplots()\n",
    "\n",
    "for k, v in c[\"NCM\"][\"BM\"].items():\n",
    "  if \"Mn-K-pristine-1\" in v:\n",
    "    df = v[\"Mn-K-pristine-1\"].read()\n",
    "    df.plot(\"energy\", \"mutrans\", ax=ax, label=k)"
   ]
  },
  {
   "cell_type": "code",
   "execution_count": null,
   "id": "d2e1e120-f3cb-4c6b-b5ee-e1de398950c2",
   "metadata": {},
   "outputs": [],
   "source": [
    "# register queries\n",
    "\n",
    "from tiled.query_registration import QueryTranslationRegistry, register\n",
    "from dataclasses import dataclass\n",
    "import collections\n",
    "import json\n",
    "\n",
    "@register(name=\"raw_mongo\", overwrite=True)\n",
    "@dataclass\n",
    "class RawMongo:\n",
    "    \"\"\"\n",
    "    Run a MongoDB query against a given collection.\n",
    "    \"\"\"\n",
    "\n",
    "    query: str  # We cannot put a dict in a URL, so this a JSON str.\n",
    "\n",
    "    def __init__(self, query):\n",
    "        if isinstance(query, collections.abc.Mapping):\n",
    "            query = json.dumps(query)\n",
    "        self.query = query"
   ]
  },
  {
   "cell_type": "code",
   "execution_count": null,
   "id": "f395ccb1-522e-4cd4-bc93-bc8a6182e55a",
   "metadata": {},
   "outputs": [],
   "source": [
    "list(c[\"core\"][\"newville\"])"
   ]
  },
  {
   "cell_type": "code",
   "execution_count": null,
   "id": "7f5f63e6-bb79-4073-9960-9dd4cfbfe81c",
   "metadata": {},
   "outputs": [],
   "source": [
    "list(c[\"core\"][\"newville\"].search(RawMongo({\"measurements.element.symbol\" : \"Ni\"})))"
   ]
  },
  {
   "cell_type": "code",
   "execution_count": null,
   "id": "e3e73f39-3599-47ba-9e11-fc469aa3d7ff",
   "metadata": {},
   "outputs": [],
   "source": [
    "ref = c[\"core\"][\"newville\"][\"Ni_metal_rt_01\"]\n",
    "ref"
   ]
  },
  {
   "cell_type": "code",
   "execution_count": null,
   "id": "e49c9698-546d-46d9-9206-acf8ee724c81",
   "metadata": {},
   "outputs": [],
   "source": [
    "fig, ax = plt.subplots()\n",
    "\n",
    "df_ref = ref[\"Ni-K\"].read()\n",
    "\n",
    "df_ref[\"mutrans\"] = np.log(df_ref[\"i0\"] / df_ref[\"itrans\"])\n",
    "\n",
    "df_ref.plot(\"energy\", \"mutrans\", ax=ax, label=\"Ni metal (newville)\")\n",
    "\n",
    "df = c[\"NCM\"][\"BM\"][\"NCMA\"][\"Ni-K-pristine-1\"].read()\n",
    "\n",
    "df.plot(\"energy\", \"mutrans\", ax=ax, label=\"NCMA\")"
   ]
  },
  {
   "cell_type": "code",
   "execution_count": null,
   "id": "b1db0d04-ce25-46f9-b885-8f92fc1624d7",
   "metadata": {},
   "outputs": [],
   "source": [
    "c[\"NCM\"].export(\"NCM.h5\")"
   ]
  }
 ],
 "metadata": {
  "kernelspec": {
   "display_name": "Python [conda env:aimm]",
   "language": "python",
   "name": "conda-env-aimm-py"
  },
  "language_info": {
   "codemirror_mode": {
    "name": "ipython",
    "version": 3
   },
   "file_extension": ".py",
   "mimetype": "text/x-python",
   "name": "python",
   "nbconvert_exporter": "python",
   "pygments_lexer": "ipython3",
   "version": "3.9.7"
  }
 },
 "nbformat": 4,
 "nbformat_minor": 5
}
