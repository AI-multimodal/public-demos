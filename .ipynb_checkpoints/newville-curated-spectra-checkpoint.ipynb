{
 "cells": [
  {
   "cell_type": "markdown",
   "id": "0ee18982",
   "metadata": {},
   "source": [
    "# AI Multimodal Data Repository"
   ]
  },
  {
   "cell_type": "markdown",
   "id": "7285c277",
   "metadata": {},
   "source": [
    "First, we connect to the data respository `aimm.lbl.gov`."
   ]
  },
  {
   "cell_type": "code",
   "execution_count": 1,
   "id": "8298e28e",
   "metadata": {},
   "outputs": [],
   "source": [
    "from tiled.client import from_uri"
   ]
  },
  {
   "cell_type": "code",
   "execution_count": 2,
   "id": "0a69dc7e",
   "metadata": {},
   "outputs": [],
   "source": [
    "client = from_uri(\"https://aimm.lbl.gov\")"
   ]
  },
  {
   "cell_type": "markdown",
   "id": "84e15933",
   "metadata": {},
   "source": [
    "Some data is public to all and visible without logging in."
   ]
  },
  {
   "cell_type": "code",
   "execution_count": 3,
   "id": "c0c9fbd7",
   "metadata": {},
   "outputs": [
    {
     "data": {
      "text/plain": [
       "<Node {'Fe-K-0', 'As-K-0', 'As-K-1', 'As-K-2', 'As-K-3', ...} ~273 entries>"
      ]
     },
     "execution_count": 3,
     "metadata": {},
     "output_type": "execute_result"
    }
   ],
   "source": [
    "client[\"newville\"]"
   ]
  },
  {
   "cell_type": "code",
   "execution_count": 4,
   "id": "e4b36031",
   "metadata": {},
   "outputs": [
    {
     "data": {
      "text/plain": [
       "<DataFrameClient ['energy', 'mutrans', 'i0']>"
      ]
     },
     "execution_count": 4,
     "metadata": {},
     "output_type": "execute_result"
    }
   ],
   "source": [
    "node = client[\"newville\"][\"Fe-K-0\"]\n",
    "node"
   ]
  },
  {
   "cell_type": "code",
   "execution_count": 5,
   "id": "c0307495",
   "metadata": {},
   "outputs": [
    {
     "data": {
      "text/html": [
       "<div>\n",
       "<style scoped>\n",
       "    .dataframe tbody tr th:only-of-type {\n",
       "        vertical-align: middle;\n",
       "    }\n",
       "\n",
       "    .dataframe tbody tr th {\n",
       "        vertical-align: top;\n",
       "    }\n",
       "\n",
       "    .dataframe thead th {\n",
       "        text-align: right;\n",
       "    }\n",
       "</style>\n",
       "<table border=\"1\" class=\"dataframe\">\n",
       "  <thead>\n",
       "    <tr style=\"text-align: right;\">\n",
       "      <th></th>\n",
       "      <th>energy</th>\n",
       "      <th>mutrans</th>\n",
       "      <th>i0</th>\n",
       "    </tr>\n",
       "  </thead>\n",
       "  <tbody>\n",
       "    <tr>\n",
       "      <th>0</th>\n",
       "      <td>6911.7671</td>\n",
       "      <td>-0.035993</td>\n",
       "      <td>280101.00</td>\n",
       "    </tr>\n",
       "    <tr>\n",
       "      <th>1</th>\n",
       "      <td>6916.8730</td>\n",
       "      <td>-0.039082</td>\n",
       "      <td>278863.00</td>\n",
       "    </tr>\n",
       "    <tr>\n",
       "      <th>2</th>\n",
       "      <td>6921.7030</td>\n",
       "      <td>-0.042193</td>\n",
       "      <td>278149.00</td>\n",
       "    </tr>\n",
       "    <tr>\n",
       "      <th>3</th>\n",
       "      <td>6926.8344</td>\n",
       "      <td>-0.045166</td>\n",
       "      <td>277292.00</td>\n",
       "    </tr>\n",
       "    <tr>\n",
       "      <th>4</th>\n",
       "      <td>6931.7399</td>\n",
       "      <td>-0.047366</td>\n",
       "      <td>265707.00</td>\n",
       "    </tr>\n",
       "    <tr>\n",
       "      <th>...</th>\n",
       "      <td>...</td>\n",
       "      <td>...</td>\n",
       "      <td>...</td>\n",
       "    </tr>\n",
       "    <tr>\n",
       "      <th>407</th>\n",
       "      <td>8064.2849</td>\n",
       "      <td>0.439961</td>\n",
       "      <td>425124.16</td>\n",
       "    </tr>\n",
       "    <tr>\n",
       "      <th>408</th>\n",
       "      <td>8070.2031</td>\n",
       "      <td>0.436578</td>\n",
       "      <td>423373.88</td>\n",
       "    </tr>\n",
       "    <tr>\n",
       "      <th>409</th>\n",
       "      <td>8076.0885</td>\n",
       "      <td>0.432912</td>\n",
       "      <td>425237.62</td>\n",
       "    </tr>\n",
       "    <tr>\n",
       "      <th>410</th>\n",
       "      <td>8082.0665</td>\n",
       "      <td>0.429472</td>\n",
       "      <td>425336.41</td>\n",
       "    </tr>\n",
       "    <tr>\n",
       "      <th>411</th>\n",
       "      <td>8084.0938</td>\n",
       "      <td>0.428428</td>\n",
       "      <td>425436.22</td>\n",
       "    </tr>\n",
       "  </tbody>\n",
       "</table>\n",
       "<p>412 rows × 3 columns</p>\n",
       "</div>"
      ],
      "text/plain": [
       "        energy   mutrans         i0\n",
       "0    6911.7671 -0.035993  280101.00\n",
       "1    6916.8730 -0.039082  278863.00\n",
       "2    6921.7030 -0.042193  278149.00\n",
       "3    6926.8344 -0.045166  277292.00\n",
       "4    6931.7399 -0.047366  265707.00\n",
       "..         ...       ...        ...\n",
       "407  8064.2849  0.439961  425124.16\n",
       "408  8070.2031  0.436578  423373.88\n",
       "409  8076.0885  0.432912  425237.62\n",
       "410  8082.0665  0.429472  425336.41\n",
       "411  8084.0938  0.428428  425436.22\n",
       "\n",
       "[412 rows x 3 columns]"
      ]
     },
     "execution_count": 5,
     "metadata": {},
     "output_type": "execute_result"
    }
   ],
   "source": [
    "data = node.read()\n",
    "data"
   ]
  },
  {
   "cell_type": "code",
   "execution_count": 6,
   "id": "6902d47b",
   "metadata": {},
   "outputs": [
    {
     "name": "stdout",
     "output_type": "stream",
     "text": [
      "{'Beamline': {'focusing': 'no',\n",
      "              'harmonic_rejection': 'detuned',\n",
      "              'name': '20BM'},\n",
      " 'Column': {'1': 'energy eV', '2': 'mutrans', '3': 'i0'},\n",
      " 'Detector': {'I0': 'N2 15cm', 'I1': 'N2 15cm'},\n",
      " 'Element': {'edge': 'K', 'symbol': 'Fe'},\n",
      " 'Mono': {'d_spacing': '3.13553', 'name': 'Si 111'},\n",
      " 'Sample': {'name': 'FeO',\n",
      "            'notes': 'room temperature, powder on tape, 4 layers'},\n",
      " 'Scan': {'start_time': '2001-08-10T11:10:00'},\n",
      " 'comments': '#  data from NXS school, 2001\\n',\n",
      " 'common': {'element': {'edge': 'K', 'symbol': 'Fe'},\n",
      "            'spec': 'newville',\n",
      "            'uid': 'Fe-K-0'},\n",
      " 'extra_version': '',\n",
      " 'filename': 'uploadtest.xdi',\n",
      " 'xdi_version': '1.0'}\n"
     ]
    }
   ],
   "source": [
    "from pprint import pprint\n",
    "\n",
    "pprint(dict(node.metadata))"
   ]
  },
  {
   "cell_type": "code",
   "execution_count": 7,
   "id": "52ff4fb2",
   "metadata": {},
   "outputs": [
    {
     "name": "stdout",
     "output_type": "stream",
     "text": [
      "Edge: K\n",
      "Element: Fe\n"
     ]
    }
   ],
   "source": [
    "print(\"Edge:\", node.metadata['Element']['edge'])\n",
    "print(\"Element:\", node.metadata['Element']['symbol'])"
   ]
  },
  {
   "cell_type": "code",
   "execution_count": 8,
   "id": "2102f0b2",
   "metadata": {},
   "outputs": [
    {
     "data": {
      "text/plain": [
       "<AxesSubplot:xlabel='energy'>"
      ]
     },
     "execution_count": 8,
     "metadata": {},
     "output_type": "execute_result"
    },
    {
     "data": {
      "image/png": "[encoded data removed]",
      "text/plain": [
       "<Figure size 432x288 with 1 Axes>"
      ]
     },
     "metadata": {
      "needs_background": "light"
     },
     "output_type": "display_data"
    }
   ],
   "source": [
    "data.plot(\"energy\", \"mutrans\")"
   ]
  },
  {
   "cell_type": "code",
   "execution_count": null,
   "id": "bc23e184",
   "metadata": {},
   "outputs": [],
   "source": []
  }
 ],
 "metadata": {
  "kernelspec": {
   "display_name": "Python 3",
   "language": "python",
   "name": "python3"
  },
  "language_info": {
   "codemirror_mode": {
    "name": "ipython",
    "version": 3
   },
   "file_extension": ".py",
   "mimetype": "text/x-python",
   "name": "python",
   "nbconvert_exporter": "python",
   "pygments_lexer": "ipython3",
   "version": "3.8.5"
  }
 },
 "nbformat": 4,
 "nbformat_minor": 5
}
